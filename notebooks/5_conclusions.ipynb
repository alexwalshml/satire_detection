{
 "cells": [
  {
   "cell_type": "code",
   "execution_count": 3,
   "id": "0bb301d1-f1f1-4a33-ad93-57fb31fc581d",
   "metadata": {},
   "outputs": [
    {
     "name": "stdout",
     "output_type": "stream",
     "text": [
      "The lab_black extension is already loaded. To reload it, use:\n",
      "  %reload_ext lab_black\n"
     ]
    }
   ],
   "source": [
    "%load_ext lab_black"
   ]
  },
  {
   "cell_type": "code",
   "execution_count": 11,
   "id": "a32a8177-0869-41a5-a976-b47810a992cd",
   "metadata": {},
   "outputs": [],
   "source": [
    "import requests\n",
    "import json\n",
    "import os\n",
    "import pathlib\n",
    "import spacy\n",
    "\n",
    "import numpy as np\n",
    "import pandas as pd\n",
    "import seaborn as sns\n",
    "import matplotlib.pyplot as plt\n",
    "\n",
    "from IPython.display import clear_output\n",
    "from sklearn.base import BaseEstimator, TransformerMixin\n",
    "from sklearn.pipeline import Pipeline\n",
    "from sklearn.compose import ColumnTransformer\n",
    "from sklearn.feature_extraction.text import TfidfVectorizer, CountVectorizer\n",
    "from sklearn.decomposition import PCA\n",
    "from sklearn.linear_model import LogisticRegression\n",
    "from sklearn.naive_bayes import BernoulliNB\n",
    "from sklearn.ensemble import (\n",
    "    RandomForestClassifier,\n",
    "    ExtraTreesClassifier,\n",
    "    StackingClassifier,\n",
    ")\n",
    "from sklearn.model_selection import GridSearchCV, train_test_split\n",
    "from sklearn.preprocessing import MaxAbsScaler\n",
    "from sklearn.metrics import ConfusionMatrixDisplay"
   ]
  },
  {
   "cell_type": "markdown",
   "id": "f42175ec-f48d-4fba-b3b2-951138aa5a38",
   "metadata": {},
   "source": [
    "The cell below implements *everything* done in the previous notebook in a single cell, due to the fact that I forgot to save my model after the grid search completed. And it takes far too long to feasibly run again, so this is much quicker to implement and run."
   ]
  },
  {
   "cell_type": "code",
   "execution_count": 10,
   "id": "7c49197a-fad0-479e-9481-1b7306d31ea4",
   "metadata": {},
   "outputs": [
    {
     "data": {
      "text/html": [
       "<style>#sk-container-id-3 {color: black;background-color: white;}#sk-container-id-3 pre{padding: 0;}#sk-container-id-3 div.sk-toggleable {background-color: white;}#sk-container-id-3 label.sk-toggleable__label {cursor: pointer;display: block;width: 100%;margin-bottom: 0;padding: 0.3em;box-sizing: border-box;text-align: center;}#sk-container-id-3 label.sk-toggleable__label-arrow:before {content: \"▸\";float: left;margin-right: 0.25em;color: #696969;}#sk-container-id-3 label.sk-toggleable__label-arrow:hover:before {color: black;}#sk-container-id-3 div.sk-estimator:hover label.sk-toggleable__label-arrow:before {color: black;}#sk-container-id-3 div.sk-toggleable__content {max-height: 0;max-width: 0;overflow: hidden;text-align: left;background-color: #f0f8ff;}#sk-container-id-3 div.sk-toggleable__content pre {margin: 0.2em;color: black;border-radius: 0.25em;background-color: #f0f8ff;}#sk-container-id-3 input.sk-toggleable__control:checked~div.sk-toggleable__content {max-height: 200px;max-width: 100%;overflow: auto;}#sk-container-id-3 input.sk-toggleable__control:checked~label.sk-toggleable__label-arrow:before {content: \"▾\";}#sk-container-id-3 div.sk-estimator input.sk-toggleable__control:checked~label.sk-toggleable__label {background-color: #d4ebff;}#sk-container-id-3 div.sk-label input.sk-toggleable__control:checked~label.sk-toggleable__label {background-color: #d4ebff;}#sk-container-id-3 input.sk-hidden--visually {border: 0;clip: rect(1px 1px 1px 1px);clip: rect(1px, 1px, 1px, 1px);height: 1px;margin: -1px;overflow: hidden;padding: 0;position: absolute;width: 1px;}#sk-container-id-3 div.sk-estimator {font-family: monospace;background-color: #f0f8ff;border: 1px dotted black;border-radius: 0.25em;box-sizing: border-box;margin-bottom: 0.5em;}#sk-container-id-3 div.sk-estimator:hover {background-color: #d4ebff;}#sk-container-id-3 div.sk-parallel-item::after {content: \"\";width: 100%;border-bottom: 1px solid gray;flex-grow: 1;}#sk-container-id-3 div.sk-label:hover label.sk-toggleable__label {background-color: #d4ebff;}#sk-container-id-3 div.sk-serial::before {content: \"\";position: absolute;border-left: 1px solid gray;box-sizing: border-box;top: 0;bottom: 0;left: 50%;z-index: 0;}#sk-container-id-3 div.sk-serial {display: flex;flex-direction: column;align-items: center;background-color: white;padding-right: 0.2em;padding-left: 0.2em;position: relative;}#sk-container-id-3 div.sk-item {position: relative;z-index: 1;}#sk-container-id-3 div.sk-parallel {display: flex;align-items: stretch;justify-content: center;background-color: white;position: relative;}#sk-container-id-3 div.sk-item::before, #sk-container-id-3 div.sk-parallel-item::before {content: \"\";position: absolute;border-left: 1px solid gray;box-sizing: border-box;top: 0;bottom: 0;left: 50%;z-index: -1;}#sk-container-id-3 div.sk-parallel-item {display: flex;flex-direction: column;z-index: 1;position: relative;background-color: white;}#sk-container-id-3 div.sk-parallel-item:first-child::after {align-self: flex-end;width: 50%;}#sk-container-id-3 div.sk-parallel-item:last-child::after {align-self: flex-start;width: 50%;}#sk-container-id-3 div.sk-parallel-item:only-child::after {width: 0;}#sk-container-id-3 div.sk-dashed-wrapped {border: 1px dashed gray;margin: 0 0.4em 0.5em 0.4em;box-sizing: border-box;padding-bottom: 0.4em;background-color: white;}#sk-container-id-3 div.sk-label label {font-family: monospace;font-weight: bold;display: inline-block;line-height: 1.2em;}#sk-container-id-3 div.sk-label-container {text-align: center;}#sk-container-id-3 div.sk-container {/* jupyter's `normalize.less` sets `[hidden] { display: none; }` but bootstrap.min.css set `[hidden] { display: none !important; }` so we also need the `!important` here to be able to override the default hidden behavior on the sphinx rendered scikit-learn.org. See: https://github.com/scikit-learn/scikit-learn/issues/21755 */display: inline-block !important;position: relative;}#sk-container-id-3 div.sk-text-repr-fallback {display: none;}</style><div id=\"sk-container-id-3\" class=\"sk-top-container\"><div class=\"sk-text-repr-fallback\"><pre>StackingClassifier(estimators=[(&#x27;title_pipe&#x27;,\n",
       "                                Pipeline(steps=[(&#x27;title&#x27;,\n",
       "                                                 ColumnTransformer(transformers=[(&#x27;vectorizer&#x27;,\n",
       "                                                                                  TfidfVectorizer(),\n",
       "                                                                                  &#x27;title&#x27;)])),\n",
       "                                                (&#x27;model&#x27;,\n",
       "                                                 RandomForestClassifier())])),\n",
       "                               (&#x27;article_pipe&#x27;,\n",
       "                                Pipeline(steps=[(&#x27;article&#x27;,\n",
       "                                                 ColumnTransformer(transformers=[(&#x27;vectorizer&#x27;,\n",
       "                                                                                  CountVectorizer(max_features=10000),\n",
       "                                                                                  &#x27;article_text&#x27;)])),\n",
       "                                                (&#x27;model&#x27;,\n",
       "                                                 RandomForestClassifier())]))],\n",
       "                   final_estimator=LogisticRegression(max_iter=100000),\n",
       "                   n_jobs=-1)</pre><b>In a Jupyter environment, please rerun this cell to show the HTML representation or trust the notebook. <br />On GitHub, the HTML representation is unable to render, please try loading this page with nbviewer.org.</b></div><div class=\"sk-container\" hidden><div class=\"sk-item sk-dashed-wrapped\"><div class=\"sk-label-container\"><div class=\"sk-label sk-toggleable\"><input class=\"sk-toggleable__control sk-hidden--visually\" id=\"sk-estimator-id-21\" type=\"checkbox\" ><label for=\"sk-estimator-id-21\" class=\"sk-toggleable__label sk-toggleable__label-arrow\">StackingClassifier</label><div class=\"sk-toggleable__content\"><pre>StackingClassifier(estimators=[(&#x27;title_pipe&#x27;,\n",
       "                                Pipeline(steps=[(&#x27;title&#x27;,\n",
       "                                                 ColumnTransformer(transformers=[(&#x27;vectorizer&#x27;,\n",
       "                                                                                  TfidfVectorizer(),\n",
       "                                                                                  &#x27;title&#x27;)])),\n",
       "                                                (&#x27;model&#x27;,\n",
       "                                                 RandomForestClassifier())])),\n",
       "                               (&#x27;article_pipe&#x27;,\n",
       "                                Pipeline(steps=[(&#x27;article&#x27;,\n",
       "                                                 ColumnTransformer(transformers=[(&#x27;vectorizer&#x27;,\n",
       "                                                                                  CountVectorizer(max_features=10000),\n",
       "                                                                                  &#x27;article_text&#x27;)])),\n",
       "                                                (&#x27;model&#x27;,\n",
       "                                                 RandomForestClassifier())]))],\n",
       "                   final_estimator=LogisticRegression(max_iter=100000),\n",
       "                   n_jobs=-1)</pre></div></div></div><div class=\"sk-serial\"><div class=\"sk-item\"><div class=\"sk-parallel\"><div class=\"sk-parallel-item\"><div class=\"sk-item\"><div class=\"sk-label-container\"><div class=\"sk-label sk-toggleable\"><label>title_pipe</label></div></div><div class=\"sk-serial\"><div class=\"sk-item\"><div class=\"sk-serial\"><div class=\"sk-item sk-dashed-wrapped\"><div class=\"sk-label-container\"><div class=\"sk-label sk-toggleable\"><input class=\"sk-toggleable__control sk-hidden--visually\" id=\"sk-estimator-id-22\" type=\"checkbox\" ><label for=\"sk-estimator-id-22\" class=\"sk-toggleable__label sk-toggleable__label-arrow\">title: ColumnTransformer</label><div class=\"sk-toggleable__content\"><pre>ColumnTransformer(transformers=[(&#x27;vectorizer&#x27;, TfidfVectorizer(), &#x27;title&#x27;)])</pre></div></div></div><div class=\"sk-parallel\"><div class=\"sk-parallel-item\"><div class=\"sk-item\"><div class=\"sk-label-container\"><div class=\"sk-label sk-toggleable\"><input class=\"sk-toggleable__control sk-hidden--visually\" id=\"sk-estimator-id-23\" type=\"checkbox\" ><label for=\"sk-estimator-id-23\" class=\"sk-toggleable__label sk-toggleable__label-arrow\">vectorizer</label><div class=\"sk-toggleable__content\"><pre>title</pre></div></div></div><div class=\"sk-serial\"><div class=\"sk-item\"><div class=\"sk-estimator sk-toggleable\"><input class=\"sk-toggleable__control sk-hidden--visually\" id=\"sk-estimator-id-24\" type=\"checkbox\" ><label for=\"sk-estimator-id-24\" class=\"sk-toggleable__label sk-toggleable__label-arrow\">TfidfVectorizer</label><div class=\"sk-toggleable__content\"><pre>TfidfVectorizer()</pre></div></div></div></div></div></div></div></div><div class=\"sk-item\"><div class=\"sk-estimator sk-toggleable\"><input class=\"sk-toggleable__control sk-hidden--visually\" id=\"sk-estimator-id-25\" type=\"checkbox\" ><label for=\"sk-estimator-id-25\" class=\"sk-toggleable__label sk-toggleable__label-arrow\">RandomForestClassifier</label><div class=\"sk-toggleable__content\"><pre>RandomForestClassifier()</pre></div></div></div></div></div></div></div></div><div class=\"sk-parallel-item\"><div class=\"sk-item\"><div class=\"sk-label-container\"><div class=\"sk-label sk-toggleable\"><label>article_pipe</label></div></div><div class=\"sk-serial\"><div class=\"sk-item\"><div class=\"sk-serial\"><div class=\"sk-item sk-dashed-wrapped\"><div class=\"sk-label-container\"><div class=\"sk-label sk-toggleable\"><input class=\"sk-toggleable__control sk-hidden--visually\" id=\"sk-estimator-id-26\" type=\"checkbox\" ><label for=\"sk-estimator-id-26\" class=\"sk-toggleable__label sk-toggleable__label-arrow\">article: ColumnTransformer</label><div class=\"sk-toggleable__content\"><pre>ColumnTransformer(transformers=[(&#x27;vectorizer&#x27;,\n",
       "                                 CountVectorizer(max_features=10000),\n",
       "                                 &#x27;article_text&#x27;)])</pre></div></div></div><div class=\"sk-parallel\"><div class=\"sk-parallel-item\"><div class=\"sk-item\"><div class=\"sk-label-container\"><div class=\"sk-label sk-toggleable\"><input class=\"sk-toggleable__control sk-hidden--visually\" id=\"sk-estimator-id-27\" type=\"checkbox\" ><label for=\"sk-estimator-id-27\" class=\"sk-toggleable__label sk-toggleable__label-arrow\">vectorizer</label><div class=\"sk-toggleable__content\"><pre>article_text</pre></div></div></div><div class=\"sk-serial\"><div class=\"sk-item\"><div class=\"sk-estimator sk-toggleable\"><input class=\"sk-toggleable__control sk-hidden--visually\" id=\"sk-estimator-id-28\" type=\"checkbox\" ><label for=\"sk-estimator-id-28\" class=\"sk-toggleable__label sk-toggleable__label-arrow\">CountVectorizer</label><div class=\"sk-toggleable__content\"><pre>CountVectorizer(max_features=10000)</pre></div></div></div></div></div></div></div></div><div class=\"sk-item\"><div class=\"sk-estimator sk-toggleable\"><input class=\"sk-toggleable__control sk-hidden--visually\" id=\"sk-estimator-id-29\" type=\"checkbox\" ><label for=\"sk-estimator-id-29\" class=\"sk-toggleable__label sk-toggleable__label-arrow\">RandomForestClassifier</label><div class=\"sk-toggleable__content\"><pre>RandomForestClassifier()</pre></div></div></div></div></div></div></div></div></div></div><div class=\"sk-item\"><div class=\"sk-parallel\"><div class=\"sk-parallel-item\"><div class=\"sk-item\"><div class=\"sk-label-container\"><div class=\"sk-label sk-toggleable\"><label>final_estimator</label></div></div><div class=\"sk-serial\"><div class=\"sk-item\"><div class=\"sk-estimator sk-toggleable\"><input class=\"sk-toggleable__control sk-hidden--visually\" id=\"sk-estimator-id-30\" type=\"checkbox\" ><label for=\"sk-estimator-id-30\" class=\"sk-toggleable__label sk-toggleable__label-arrow\">LogisticRegression</label><div class=\"sk-toggleable__content\"><pre>LogisticRegression(max_iter=100000)</pre></div></div></div></div></div></div></div></div></div></div></div></div>"
      ],
      "text/plain": [
       "StackingClassifier(estimators=[('title_pipe',\n",
       "                                Pipeline(steps=[('title',\n",
       "                                                 ColumnTransformer(transformers=[('vectorizer',\n",
       "                                                                                  TfidfVectorizer(),\n",
       "                                                                                  'title')])),\n",
       "                                                ('model',\n",
       "                                                 RandomForestClassifier())])),\n",
       "                               ('article_pipe',\n",
       "                                Pipeline(steps=[('article',\n",
       "                                                 ColumnTransformer(transformers=[('vectorizer',\n",
       "                                                                                  CountVectorizer(max_features=10000),\n",
       "                                                                                  'article_text')])),\n",
       "                                                ('model',\n",
       "                                                 RandomForestClassifier())]))],\n",
       "                   final_estimator=LogisticRegression(max_iter=100000),\n",
       "                   n_jobs=-1)"
      ]
     },
     "execution_count": 10,
     "metadata": {},
     "output_type": "execute_result"
    }
   ],
   "source": [
    "corpus = (\n",
    "    pd.read_csv(\"../data/corpus.csv\")\n",
    "    .sample(frac=1, random_state=43)\n",
    "    .reset_index(drop=True)\n",
    ")  # this statement was not given a random state in the previous notebook\n",
    "# results may be slightly different as a result\n",
    "\n",
    "target = \"satire\"\n",
    "features = [\"title\", \"article_text\"]\n",
    "\n",
    "train_corpus, test_corpus = train_test_split(\n",
    "    corpus, random_state=43, stratify=corpus[target]\n",
    ")\n",
    "\n",
    "train_dummy = max([train_corpus[target].sum(), 1.0 - train_corpus[target].sum()])\n",
    "test_dummy = max([test_corpus[target].sum(), 1.0 - test_corpus[target].sum()])\n",
    "\n",
    "nlp = spacy.load(\"en_core_web_lg\")\n",
    "\n",
    "\n",
    "def lemmatize(corpus, nlp):\n",
    "    lemmatized_lists = []\n",
    "    for article in corpus:\n",
    "        doc = nlp(article)\n",
    "\n",
    "        lemmatized = [\n",
    "            str(token.lemma_).lower()\n",
    "            for token in doc\n",
    "            if not token.is_stop\n",
    "            and not token.is_punct\n",
    "            and not token.is_oov\n",
    "            and not token.is_space\n",
    "        ]\n",
    "\n",
    "        lemmatized_lists.append(lemmatized)\n",
    "\n",
    "    return [\" \".join(lemma_list) for lemma_list in lemmatized_lists]\n",
    "\n",
    "\n",
    "def lemma_scores(lemmatized, y):\n",
    "    lemma_counts = {}\n",
    "    y = np.array(y)\n",
    "    for n, lemmas in enumerate(lemmatized):\n",
    "        for lemma in lemmas.split(\" \"):\n",
    "            if lemma not in lemma_counts:\n",
    "                lemma_counts[lemma] = [0, 0]\n",
    "            lemma_counts[lemma][y[n]] += 1\n",
    "\n",
    "    lemma_scores = {\n",
    "        lemma: np.log(value[0] + value[1])\n",
    "        * np.abs(value[0] - value[1])\n",
    "        / (value[0] + value[1])\n",
    "        for lemma, value in lemma_counts.items()\n",
    "    }\n",
    "\n",
    "    return lemma_scores\n",
    "\n",
    "\n",
    "def score_filtering(lemmatized_corpus, lemma_scores, threshold):\n",
    "    filtered_corpus = [\n",
    "        \" \".join(\n",
    "            [\n",
    "                lemma\n",
    "                for lemma in lemmas.split(\" \")\n",
    "                if lemma_scores.get(lemma, 0) <= threshold\n",
    "            ]\n",
    "        )\n",
    "        for lemmas in lemmatized_corpus\n",
    "    ]\n",
    "\n",
    "    return filtered_corpus\n",
    "\n",
    "\n",
    "train_corpus[\"title\"] = lemmatize(train_corpus[\"title\"], nlp)\n",
    "train_corpus[\"article_text\"] = lemmatize(train_corpus[\"article_text\"], nlp)\n",
    "\n",
    "title_lemma_scores = lemma_scores(train_corpus[\"title\"], train_corpus[\"satire\"])\n",
    "article_lemma_scores = lemma_scores(\n",
    "    train_corpus[\"article_text\"], train_corpus[\"satire\"]\n",
    ")\n",
    "\n",
    "test_corpus[\"title\"] = lemmatize(test_corpus[\"title\"], nlp)\n",
    "test_corpus[\"article_text\"] = lemmatize(test_corpus[\"article_text\"], nlp)\n",
    "\n",
    "title_pipe = Pipeline(\n",
    "    [\n",
    "        (\"title\", ColumnTransformer([(\"vectorizer\", TfidfVectorizer(), \"title\")])),\n",
    "        (\"model\", RandomForestClassifier()),\n",
    "    ]\n",
    ")\n",
    "\n",
    "article_pipe = Pipeline(\n",
    "    [\n",
    "        (\n",
    "            \"article\",\n",
    "            ColumnTransformer(\n",
    "                [(\"vectorizer\", CountVectorizer(max_features=10000), \"article_text\")]\n",
    "            ),\n",
    "        ),\n",
    "        (\"model\", RandomForestClassifier()),\n",
    "    ]\n",
    ")\n",
    "\n",
    "estimators = [(\"title_pipe\", title_pipe), (\"article_pipe\", article_pipe)]\n",
    "final_estimator = LogisticRegression(max_iter=100000)\n",
    "\n",
    "model = StackingClassifier(\n",
    "    estimators=estimators, final_estimator=final_estimator, n_jobs=-1\n",
    ")\n",
    "\n",
    "X_test = test_corpus[[\"article_text\", \"title\"]].copy()\n",
    "y_test = test_corpus[\"satire\"].copy()\n",
    "\n",
    "threshold = 5.0\n",
    "\n",
    "X = train_corpus[[\"article_text\", \"title\"]].copy()\n",
    "y = train_corpus[\"satire\"].copy()\n",
    "\n",
    "X[\"title\"] = score_filtering(X[\"title\"], title_lemma_scores, threshold)\n",
    "X[\"article_text\"] = score_filtering(X[\"article_text\"], article_lemma_scores, threshold)\n",
    "\n",
    "model.fit(X, y)"
   ]
  },
  {
   "cell_type": "code",
   "execution_count": 28,
   "id": "912b156c-d73a-4f71-8c13-6198a8696ec3",
   "metadata": {},
   "outputs": [
    {
     "data": {
      "text/plain": [
       "0.9543960558751027"
      ]
     },
     "execution_count": 28,
     "metadata": {},
     "output_type": "execute_result"
    }
   ],
   "source": [
    "model.score(X_test, y_test)"
   ]
  },
  {
   "cell_type": "markdown",
   "id": "2a020ad9-6a04-402d-8701-a6db11648212",
   "metadata": {},
   "source": [
    "The final model with the random states implemented has an accuracy of 95.4% on the test data. This is surprisingly good, and I attribute its success to the large amount of text acquired during data aggregation. Next, to see if there is a discrepancy in what is being misclassified. "
   ]
  },
  {
   "cell_type": "code",
   "execution_count": 29,
   "id": "240367f9-af75-47e9-8165-7012a1504ea5",
   "metadata": {},
   "outputs": [
    {
     "data": {
      "text/plain": [
       "<sklearn.metrics._plot.confusion_matrix.ConfusionMatrixDisplay at 0x7f8e36d34250>"
      ]
     },
     "execution_count": 29,
     "metadata": {},
     "output_type": "execute_result"
    },
    {
     "data": {
      "image/png": "[encoded data removed]",
      "text/plain": [
       "<Figure size 640x480 with 2 Axes>"
      ]
     },
     "metadata": {},
     "output_type": "display_data"
    }
   ],
   "source": [
    "ConfusionMatrixDisplay.from_estimator(model, X_test, y_test)"
   ]
  },
  {
   "cell_type": "markdown",
   "id": "e7a59fa4-b7cf-4f98-826e-1f39882ab7ab",
   "metadata": {},
   "source": [
    "Here, zero represents non-satirical and one represents satirical. The model predicts both incorrectly at roughly equal rates. There are slightly more real articles being classified as satirical than the converse, but it is not a significant difference. Overall, a very balanced model has been produced. It will be hard to determine what exactly is causing these examples to be misclassified, but to help reassure that there is nothing glaringly wrong with these examples I will print the first instances of a false negative and a false positive below."
   ]
  },
  {
   "cell_type": "code",
   "execution_count": 39,
   "id": "90384082-1689-489c-88cc-75e596a0c69f",
   "metadata": {},
   "outputs": [
    {
     "name": "stdout",
     "output_type": "stream",
     "text": [
      "False Positive\n",
      "['clinton county police officer earn praise admiration law enforcement official completely impossible task facebook page bath township official say officer trenton bailey set mission law enforcement history use entire pen lose break department say pleased finally succeed official post photo history make pen pen rescue mud puddle highway deep depth slit seat center console cruiser department say drive house retrieve pen mt. pleasant officer bailey earn praise peer hear thing say jeff browne public information officer mt. pleasant police department impossible lose pen misplace admire officer try thing bailey wait word guinness book world records official say like thank god amazing opportunity family have coworker unwavere support bailey say'\n",
      " 'mid michigan officer set record use pen die']\n",
      "\n",
      "False Negative\n",
      "['new york miss america 1996 24 year old angela pierce call question sunday special u.n. session member nation believe fail promise effectively promote world peace accord u.n. special secretary world peace relate affair gavin failure miss pierce achieve world peace direct conflict state promise interview round 1995 miss america pageant pierce college student tacoma wa censure u.n. resolution pass 64 nation body reference fail promise gala pageant hold atlantic city july declare world significantly safe loving place raise future child marginally supportive girl pageant committee commend miss america look elegant evening wear'\n",
      " 'miss america call u.n. council promote world peace']\n"
     ]
    }
   ],
   "source": [
    "# y_pred = model.predict(X_test)\n",
    "\n",
    "X_test_arr, y_test_arr = np.array(X_test), np.array(y_test)\n",
    "\n",
    "for n in range(len(X_test)):\n",
    "    false_satire = y_test[n] == 0 and y_pred[n] == 1\n",
    "    if false_satire:\n",
    "        print(\"False Positive\")\n",
    "        print(X_test[n])\n",
    "        print()\n",
    "        break\n",
    "\n",
    "for n in range(len(X_test)):\n",
    "    false_real = y_test[n] == 1 and y_pred[n] == 0\n",
    "    if false_real:\n",
    "        print(\"False Negative\")\n",
    "        print(X_test[n])\n",
    "        break"
   ]
  },
  {
   "cell_type": "markdown",
   "id": "b5786a91-5397-4c31-96bf-5b370c99360e",
   "metadata": {},
   "source": [
    "Nothing seems especially wrong here, except both contain multiple instances of the same lemma. The false positive contains the word \"pen\" five times in the body and once in the title, and the false negative contains the word \"world\" three times in the body and once in the title (among other repeats). This alone could potentially explain things, as if the word \"pen\" was for some reason dubbed satirical, then it appearing five times in a single article could quite likely tip the scales in favor of satire. This is little more than a hypothesis, and is a point to look into for further analysis and improvements.\n",
    "\n",
    "Finally, I will examine the coefficients of the logistic regression that accepts both the article prediction and the title prediction. "
   ]
  },
  {
   "cell_type": "code",
   "execution_count": 27,
   "id": "360e4bb2-aeca-4727-941e-07af5399b44c",
   "metadata": {},
   "outputs": [
    {
     "name": "stdout",
     "output_type": "stream",
     "text": [
      "Title Coefficient: 3.5399162488851568\n",
      "Article Coefficient: 16.587862380767334\n",
      "Ratio: 4.685947693251622\n"
     ]
    }
   ],
   "source": [
    "title_coef, article_coef = model.final_estimator_.coef_[0]\n",
    "print(f\"Title Coefficient: {title_coef}\")\n",
    "print(f\"Article Coefficient: {article_coef}\")\n",
    "print(f\"Ratio: {article_coef / title_coef}\")"
   ]
  },
  {
   "cell_type": "markdown",
   "id": "fb388a29-410c-418c-8345-f33b88be5998",
   "metadata": {},
   "source": [
    "The coefficient associated with the article being satirical is almost five times larger than the coefficient associated with the title. Therefore, a unit increase in the article feature will increase the log odds of a news article being satirical almost five times as much as a unit increase in the title feature. Thus, the article content is far more important than the title."
   ]
  },
  {
   "cell_type": "markdown",
   "id": "632c2482-47ee-45b0-afbb-daf446316c68",
   "metadata": {},
   "source": [
    "# Conclusions and Recommendations\n",
    "\n",
    "There are two major ways to move forward with this project that I currently see. The first is to revisit the logarithmic imbalance score introduced in notebook 3. This scoring system proved to be very effective, as evidenced by the model's high accuracy. However, it is not perfect, and in hindsight could have been improved in its definition alone. The problem that I see with the function is that it weighs counts from both categories equally, even though one category contains far more text than the other. I would guess that using word frequencies instead of counts in each category would be a good place to start (and is equivalent in the case of balanced categories). Or, if that does not prove effective, the weights for each category can be treated as learnable parameters and chosen computationally. as it stands, equal weighting seems to be good enough, but I doubt it is optimal and should be explored further. On a similar note, very few threshold values were tested. Unit increases are quite large for a logarithmic scale, and it is possible that a lot of interesting information about a bias-variance tradeoff for the model is happening in between those integer values. The only reason I explored so few values was time constraints, and I believe a more fine-grained search would give even better results.\n",
    "\n",
    "The second is to further analyze the cases of misclassification. If my hypothesis that wrongly labeled articles are caused by repeated terms is correct, then a more advanced vectorization technique may be required. Such a technique might implement diminishing returns for multiple instances of the same lemma within an article (such as the square root of count), so that classification is based more on the set of lemmas present as a whole, and less on how many of certain lemmas there are. This is little more than speculation, and requires in depth analysis of the articles the model mistook. Alternatively, the model could be suited with a reject option, and all of the \"too close to call\" articles could be fed to a secondary model specializing in hard-to-classify articles.\n",
    "\n",
    "That said, over 95% accuracy is a potent model. Almost all of the classification power comes from from the article body and not the title, so it does not seem to be feasible to build a model based only on headlines. It may be possible with orders of magnitude more data, but as of now I recommend using both the title and article. I am happy with this model, and I'm fairly confident in its performance going forward as very little variance was observed during fitting. I propose two tests going forward. The first is to see how the model works on real, but non-bizarre news stories. The logic goes that if it can successfully differentiate satire and *almost*-satire, then boring old news should be easy enough to classify, yet this analysis did not test this. Second, see how well the model classifies other sources of satire. This model may prevent people from eating The Onion, but other publishers may have different styles the model is blind to.\n",
    "\n",
    "Given passing results from those tests, I think the next steps are to prototype a model that accepts a URL and classifies it as real or satirical, and to deploy this model in beta as a browser extension. This would allow data to be gathered at a quick rate while leveraging user computation power, and would quickly lead to a better understanding of how the model works. This would give this model a better chance at success as a product."
   ]
  }
 ],
 "metadata": {
  "kernelspec": {
   "display_name": "Python 3 (ipykernel)",
   "language": "python",
   "name": "python3"
  },
  "language_info": {
   "codemirror_mode": {
    "name": "ipython",
    "version": 3
   },
   "file_extension": ".py",
   "mimetype": "text/x-python",
   "name": "python",
   "nbconvert_exporter": "python",
   "pygments_lexer": "ipython3",
   "version": "3.11.0"
  }
 },
 "nbformat": 4,
 "nbformat_minor": 5
}
